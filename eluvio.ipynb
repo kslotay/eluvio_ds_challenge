{
 "cells": [
  {
   "cell_type": "markdown",
   "metadata": {},
   "source": [
    "## Eluvio data science challenge"
   ]
  },
  {
   "cell_type": "code",
   "execution_count": 12,
   "metadata": {},
   "outputs": [],
   "source": [
    "from tqdm import tqdm\n",
    "import torch\n",
    "import pandas as pd\n",
    "import numpy as np\n",
    "from matplotlib import pyplot as plt\n",
    "import seaborn as sns\n",
    "sns.set()"
   ]
  },
  {
   "cell_type": "markdown",
   "metadata": {},
   "source": [
    "### ETL"
   ]
  },
  {
   "cell_type": "code",
   "execution_count": 13,
   "metadata": {},
   "outputs": [],
   "source": [
    "%run 'scripts/dataloading.py'"
   ]
  },
  {
   "cell_type": "code",
   "execution_count": 14,
   "metadata": {
    "scrolled": true
   },
   "outputs": [
    {
     "name": "stderr",
     "output_type": "stream",
     "text": [
      "100%|██████████| 64/64 [00:01<00:00, 44.42it/s]"
     ]
    },
    {
     "name": "stdout",
     "output_type": "stream",
     "text": [
      "['tt0120890.pkl', 'tt2488496.pkl', 'tt1412386.pkl', 'tt0822832.pkl', 'tt0063442.pkl', 'tt0479884.pkl', 'tt0976051.pkl', 'tt0253474.pkl', 'tt1375666.pkl', 'tt0100405.pkl', 'tt0073195.pkl', 'tt0088247.pkl', 'tt0440963.pkl', 'tt0123755.pkl', 'tt2024544.pkl', 'tt0117060.pkl', 'tt1099212.pkl', 'tt0114746.pkl', 'tt0137523.pkl', 'tt0119488.pkl', 'tt0443272.pkl', 'tt0108399.pkl', 'tt0112573.pkl', 'tt1001508.pkl', 'tt0107290.pkl', 'tt1707386.pkl', 'tt0945513.pkl', 'tt1119646.pkl', 'tt0780571.pkl', 'tt0399201.pkl', 'tt0110604.pkl', 'tt0163025.pkl', 'tt0172495.pkl', 'tt0115759.pkl', 'tt0099423.pkl', 'tt0178868.pkl', 'tt0409459.pkl', 'tt0190332.pkl', 'tt2582846.pkl', 'tt0361748.pkl', 'tt0086190.pkl', 'tt0088944.pkl', 'tt1205489.pkl', 'tt0281358.pkl', 'tt0217505.pkl', 'tt0082089.pkl', 'tt0120689.pkl', 'tt0116282.pkl', 'tt0068646.pkl', 'tt0113277.pkl', 'tt0078788.pkl', 'tt0052357.pkl', 'tt0103776.pkl', 'tt0103855.pkl', 'tt0118715.pkl', 'tt0116922.pkl', 'tt0124315.pkl', 'tt0075314.pkl', 'tt0379786.pkl', 'tt0120382.pkl', 'tt0092099.pkl', 'tt1038919.pkl', 'tt0096320.pkl', 'tt0319061.pkl']\n"
     ]
    },
    {
     "name": "stderr",
     "output_type": "stream",
     "text": [
      "\n"
     ]
    }
   ],
   "source": [
    "# Load files\n",
    "file_names, data = load_files(os.path.join(\"./\", \"eluvio_data/\"))\n",
    "print(file_names)"
   ]
  },
  {
   "cell_type": "code",
   "execution_count": 3,
   "metadata": {
    "scrolled": false
   },
   "outputs": [
    {
     "name": "stdout",
     "output_type": "stream",
     "text": [
      "----------------------- place -----------------------\n",
      "torch.Size([1151, 2048])\n",
      "----------------------- cast -----------------------\n",
      "torch.Size([1151, 512])\n",
      "----------------------- action -----------------------\n",
      "torch.Size([1151, 512])\n",
      "----------------------- audio -----------------------\n",
      "torch.Size([1151, 512])\n",
      "----------------------- scene_transition_boundary_ground_truth -----------------------\n",
      "torch.Size([1150])\n",
      "----------------------- shot_end_frame -----------------------\n",
      "torch.Size([1151])\n",
      "----------------------- scene_transition_boundary_prediction -----------------------\n",
      "torch.Size([1150])\n"
     ]
    }
   ],
   "source": [
    "for k in [k for k in data[0].keys()][:-1]:\n",
    "    print('-----------------------', k, '-----------------------')\n",
    "    print(data[0][k].shape)"
   ]
  },
  {
   "cell_type": "markdown",
   "metadata": {},
   "source": [
    "### Dataset preparation"
   ]
  },
  {
   "cell_type": "code",
   "execution_count": 16,
   "metadata": {},
   "outputs": [],
   "source": [
    "%run 'scripts/datautils.py'"
   ]
  },
  {
   "cell_type": "code",
   "execution_count": 17,
   "metadata": {},
   "outputs": [
    {
     "data": {
      "text/plain": [
       "tensor([[0.0000, 0.0000, 0.0000,  ..., 0.0000, 0.0000, 0.0000],\n",
       "        [0.0000, 0.0000, 0.0000,  ..., 0.0000, 0.0000, 0.0000],\n",
       "        [0.0000, 0.0000, 0.0000,  ..., 0.8525, 0.0000, 0.0000],\n",
       "        ...,\n",
       "        [0.1160, 1.8896, 0.0000,  ..., 0.0000, 0.0000, 0.0000],\n",
       "        [0.6467, 1.1901, 0.0000,  ..., 0.0000, 0.0000, 0.0000],\n",
       "        [0.0000, 0.0040, 0.0000,  ..., 0.0000, 0.0000, 1.0000]])"
      ]
     },
     "execution_count": 17,
     "metadata": {},
     "output_type": "execute_result"
    }
   ],
   "source": [
    "holdout_set_num = 1\n",
    "\n",
    "# bound_pred_dataset = loadBoundPredDataset(data[0])\n",
    "# boundary_gt_dataset = loadBoundGroundTruthDataset(data[0])\n",
    "movie_dataset = loadDatasets(data[:-holdout_set_num], loadBoundPredDatasetA)\n",
    "movie_dataset"
   ]
  },
  {
   "cell_type": "code",
   "execution_count": 18,
   "metadata": {},
   "outputs": [],
   "source": [
    "dataset = movie_dataset\n",
    "train_set, test_set = getTrainTestSet(dataset, [int(len(dataset)*0.8), int(len(dataset)*0.2)])"
   ]
  },
  {
   "cell_type": "code",
   "execution_count": 19,
   "metadata": {},
   "outputs": [
    {
     "name": "stdout",
     "output_type": "stream",
     "text": [
      "83312\n",
      "20828\n"
     ]
    }
   ],
   "source": [
    "print(len(train_set.indices))\n",
    "print(len(test_set.indices))"
   ]
  },
  {
   "cell_type": "markdown",
   "metadata": {},
   "source": [
    "### Model"
   ]
  },
  {
   "cell_type": "code",
   "execution_count": 8,
   "metadata": {},
   "outputs": [],
   "source": [
    "# Feature Extraction models\n",
    "# BNet\n",
    "class BNet(torch.nn.Module):\n",
    "    def __init__(self, shot_num=1, channel=512):\n",
    "        super(BNet, self).__init__()\n",
    "        self.shot_num = shot_num\n",
    "        self.channel = channel\n",
    "        self.conv1 = torch.nn.Conv2d(1, self.channel, kernel_size=(self.shot_num, 1))\n",
    "        self.max3d = torch.nn.MaxPool3d(kernel_size=(self.channel, 1, 1))\n",
    "        self.conv2 = torch.nn.Conv2d(1, self.channel, kernel_size=(self.shot_num, 1))\n",
    "\n",
    "    def forward(self, x):  # [batch_size, seq_len, shot_num, feat_dim]\n",
    "        context = x.view(x.shape[0], -1, 1, x.shape[-1])\n",
    "        context = self.conv1(context)  # batch_size*seq_len,512,1,feat_dim\n",
    "        context = self.max3d(context)  # batch_size*seq_len,1,1,feat_dim\n",
    "        context = context.squeeze()\n",
    "        cview = x.view(x.shape[0], -1, 1, x.shape[-1])\n",
    "        cview = cview.view(-1, 1, cview.shape[2], cview.shape[3])\n",
    "        part1, part2 = torch.split(cview, [x.shape[-1]//2, x.shape[-1]//2], dim=3)\n",
    "        # batch_size*seq_len, 1, [self.shot_num//2], feat_dim\n",
    "        part1 = self.conv2(part1).squeeze()\n",
    "        part2 = self.conv2(part2).squeeze()\n",
    "        sim = torch.nn.functional.cosine_similarity(part1, part2, dim=2)\n",
    "        bound = torch.cat((context, sim), dim=1)\n",
    "        return bound"
   ]
  },
  {
   "cell_type": "code",
   "execution_count": 9,
   "metadata": {},
   "outputs": [],
   "source": [
    "# Binary scene classification models\n",
    "class LinearRegression(torch.nn.Module):\n",
    "    def __init__(self, input_dim, output_dim):\n",
    "        super(LinearRegression, self).__init__()\n",
    "        self.linear = torch.nn.Linear(input_dim, output_dim)\n",
    "    \n",
    "    def forward(self, x):\n",
    "        outputs = self.linear(x)\n",
    "        return outputs\n",
    "\n",
    "class biLSTM(torch.nn.Module):\n",
    "    def __init__(self, input_dim, output_dim=2, num_layers=1, lstm_hidden_size=512, seq_len=8):\n",
    "        super(biLSTM, self).__init__()\n",
    "        self.num_layers = num_layers\n",
    "        self.input_dim = input_dim\n",
    "        self.output_dim = output_dim\n",
    "        self.lstm_hidden_size = lstm_hidden_size\n",
    "        self.seq_len = seq_len\n",
    "        self.bnet = BNet()\n",
    "        self.lstm = torch.nn.LSTM(input_size=self.input_dim,\n",
    "                                  hidden_size=self.lstm_hidden_size,\n",
    "                                  num_layers=1,\n",
    "                                  batch_first=True,\n",
    "                                  bidirectional=False)\n",
    "        self.fc1 = torch.nn.Linear(self.lstm_hidden_size, 100)\n",
    "        self.fc2 = torch.nn.Linear(100, output_dim)\n",
    "\n",
    "    def forward(self, x):\n",
    "        x_in = self.bnet(x)\n",
    "        x_view_in = x_in.view(-1, self.seq_len, x_in.shape[-1])\n",
    "        self.lstm.flatten_parameters()\n",
    "        out, _ = self.lstm(x_view_in, None)\n",
    "        out = torch.nn.functional.relu(self.fc1(out))\n",
    "        out = self.fc2(out)\n",
    "        out = out.view(-1, 2)\n",
    "#         out = torch.nn.functional.softmax(out, dim=0)\n",
    "        \n",
    "        return out"
   ]
  },
  {
   "cell_type": "markdown",
   "metadata": {},
   "source": [
    "### Training"
   ]
  },
  {
   "cell_type": "code",
   "execution_count": 10,
   "metadata": {
    "scrolled": true
   },
   "outputs": [
    {
     "name": "stdout",
     "output_type": "stream",
     "text": [
      "params:\n",
      "{'batch_size': 128, 'n_iters': 1500, 'input_dim': 514, 'output_dim': 2, 'lr_rate': 0.001}\n",
      "epochs: 2\n",
      "\n"
     ]
    },
    {
     "name": "stderr",
     "output_type": "stream",
     "text": [
      "/home/kslotay/.conda/envs/py36/lib/python3.6/site-packages/torch/autograd/__init__.py:132: UserWarning: CUDA initialization: Found no NVIDIA driver on your system. Please check that you have an NVIDIA GPU and installed a driver from http://www.nvidia.com/Download/index.aspx (Triggered internally at  /opt/conda/conda-bld/pytorch_1607370193460/work/c10/cuda/CUDAFunctions.cpp:100.)\n",
      "  allow_unreachable=True)  # allow_unreachable flag\n"
     ]
    },
    {
     "name": "stdout",
     "output_type": "stream",
     "text": [
      "Iteration: 100. TrainLoss: 0.7036486864089966. TestLoss: 111.09425437450409.\n",
      "Accuracy: 0.923804012345679\n",
      "Iteration: 200. TrainLoss: 0.692289412021637. TestLoss: 110.75550651550293.\n",
      "Accuracy: 0.9241415895061729\n",
      "Iteration: 300. TrainLoss: 0.6742932200431824. TestLoss: 110.59499388933182.\n",
      "Accuracy: 0.9241415895061729\n",
      "Iteration: 400. TrainLoss: 0.6903908252716064. TestLoss: 110.46623849868774.\n",
      "Accuracy: 0.9235628858024691\n",
      "Iteration: 500. TrainLoss: 0.702307403087616. TestLoss: 110.35186451673508.\n",
      "Accuracy: 0.9216338734567902\n",
      "Iteration: 600. TrainLoss: 0.6732595562934875. TestLoss: 110.24372565746307.\n",
      "Accuracy: 0.9136766975308642\n",
      "Iteration: 700. TrainLoss: 0.7158713936805725. TestLoss: 110.15717166662216.\n",
      "Accuracy: 0.8659336419753086\n",
      "Iteration: 800. TrainLoss: 0.6795190572738647. TestLoss: 110.0971417427063.\n",
      "Accuracy: 0.8088831018518519\n",
      "Iteration: 900. TrainLoss: 0.6862257719039917. TestLoss: 110.0310645699501.\n",
      "Accuracy: 0.8375771604938271\n",
      "Iteration: 1000. TrainLoss: 0.6670252084732056. TestLoss: 109.95977675914764.\n",
      "Accuracy: 0.7899787808641975\n",
      "Iteration: 1100. TrainLoss: 0.6279911994934082. TestLoss: 109.9028589129448.\n",
      "Accuracy: 0.7954764660493827\n",
      "Iteration: 1200. TrainLoss: 0.692211389541626. TestLoss: 109.8495563864708.\n",
      "Accuracy: 0.7899787808641975\n",
      "Iteration: 1300. TrainLoss: 0.6582950353622437. TestLoss: 109.77713066339493.\n",
      "Accuracy: 0.7833236882716049\n"
     ]
    }
   ],
   "source": [
    "params = {'batch_size': 128,\n",
    "          'n_iters': 1500,\n",
    "          'input_dim': 514,\n",
    "          'output_dim': 2,\n",
    "          'lr_rate': 0.001}\n",
    "\n",
    "epochs = int(params['n_iters'] / (len(train_set) / params['batch_size']))\n",
    "\n",
    "print(f'params:\\n{params}\\nepochs: {epochs}\\n')\n",
    "loss_dict = {'train': [], 'test': [], 'accuracy': []}\n",
    "\n",
    "model = biLSTM(params['input_dim']+512, params['output_dim'])\n",
    "# model2 = LinearRegression(params['output_dim'], params['output_dim'])\n",
    "criterion = torch.nn.CrossEntropyLoss(weight=torch.Tensor([0.5, 5]))\n",
    "optimizer = torch.optim.SGD(model.parameters(), lr=params['lr_rate'])\n",
    "\n",
    "trainloader = torch.utils.data.DataLoader(train_set, batch_size=params['batch_size'], drop_last=True)\n",
    "testloader = torch.utils.data.DataLoader(test_set, batch_size=params['batch_size'], drop_last=True)\n",
    "\n",
    "iter = 0\n",
    "for epoch in range(int(epochs)):\n",
    "    for i, x in enumerate(trainloader):\n",
    "        x_in = torch.autograd.Variable(x[:,:-1])\n",
    "        y_in = torch.autograd.Variable(x[:,-1]).type(torch.LongTensor)\n",
    "        \n",
    "        optimizer.zero_grad()\n",
    "        y_pred = model(x_in)\n",
    "        loss = criterion(y_pred, y_in)\n",
    "        loss.backward()\n",
    "        optimizer.step()\n",
    "\n",
    "        iter = iter+1\n",
    "        if iter%100 == 0:\n",
    "            total_loss = 0\n",
    "            total = 0\n",
    "            correct = 0\n",
    "            for x in testloader:\n",
    "                x_in = x[:,:-1]\n",
    "                y_in = torch.Tensor(x[:,-1]).type(torch.LongTensor)\n",
    "                with torch.no_grad():\n",
    "                    y_pred = model(x_in)\n",
    "                    test_loss = criterion(y_pred, y_in)\n",
    "                    total_loss = total_loss + test_loss.item()\n",
    "                    \n",
    "                    # For binary classification\n",
    "                    for y in range(len(y_pred)):\n",
    "                        total = total + 1\n",
    "#                         y_out = torch.nn.functional.softmax(y_pred[y], dim=0)\n",
    "                        y_out = y_pred[y]\n",
    "#                         print(torch.argmax(y_out).item(), y_in[y].item())\n",
    "                        if torch.argmax(y_out).item() == y_in[y].item():\n",
    "                            correct = correct + 1\n",
    "\n",
    "            loss_dict['train'].append(loss.item())\n",
    "            loss_dict['test'].append(total_loss)\n",
    "            loss_dict['accuracy'].append(correct/total)\n",
    "            print(\"Iteration: {}. TrainLoss: {}. TestLoss: {}.\".format(iter, loss.item(), total_loss))\n",
    "            print(\"Accuracy: {}\".format(correct/total))"
   ]
  },
  {
   "cell_type": "code",
   "execution_count": 11,
   "metadata": {
    "scrolled": true
   },
   "outputs": [
    {
     "data": {
      "text/plain": [
       "<matplotlib.legend.Legend at 0x7f4f88bd37f0>"
      ]
     },
     "execution_count": 11,
     "metadata": {},
     "output_type": "execute_result"
    },
    {
     "data": {
      "image/png": "[encoded data removed]",
      "text/plain": [
       "<Figure size 432x288 with 1 Axes>"
      ]
     },
     "metadata": {
      "needs_background": "light"
     },
     "output_type": "display_data"
    },
    {
     "data": {
      "image/png": "[encoded data removed]",
      "text/plain": [
       "<Figure size 432x288 with 1 Axes>"
      ]
     },
     "metadata": {
      "needs_background": "light"
     },
     "output_type": "display_data"
    }
   ],
   "source": [
    "plt.figure()\n",
    "plt.title('Loss')\n",
    "plt.plot(np.array(loss_dict['train'])/max(loss_dict['train']), label='train')\n",
    "plt.plot(np.array(loss_dict['test'])/max(loss_dict['test']), label='test')\n",
    "plt.legend(loc='upper right')\n",
    "\n",
    "plt.figure()\n",
    "plt.title('Accuracy')\n",
    "plt.plot(loss_dict['accuracy'], label='test_accuracy')\n",
    "plt.legend(loc='upper right')"
   ]
  },
  {
   "cell_type": "markdown",
   "metadata": {},
   "source": [
    "### Scenecut Optimization"
   ]
  },
  {
   "cell_type": "code",
   "execution_count": null,
   "metadata": {},
   "outputs": [],
   "source": [
    "%run 'scripts/scenecutoptim.py'"
   ]
  },
  {
   "cell_type": "code",
   "execution_count": 421,
   "metadata": {
    "scrolled": true
   },
   "outputs": [],
   "source": [
    "# Implement DP/iterative optimization for scene segmentation given supershot representations\n",
    "\n",
    "memo, scenecutscores = optimizeSceneCutSet(bound_pred_dataset[:,:-1], data[0]['scene_transition_boundary_prediction'])"
   ]
  },
  {
   "cell_type": "markdown",
   "metadata": {},
   "source": [
    "### Evaluation"
   ]
  },
  {
   "cell_type": "code",
   "execution_count": 20,
   "metadata": {},
   "outputs": [],
   "source": [
    "%run 'scripts/eluvioevalfuncs.py'"
   ]
  },
  {
   "cell_type": "code",
   "execution_count": 13,
   "metadata": {
    "scrolled": true
   },
   "outputs": [
    {
     "name": "stdout",
     "output_type": "stream",
     "text": [
      "Accuracy: 0.7833236882716049 TestLoss: 219.55426132678986.\n",
      "              precision    recall  f1-score   support\n",
      "\n",
      "           0       0.93      0.83      0.88     19163\n",
      "           1       0.11      0.26      0.16      1573\n",
      "\n",
      "    accuracy                           0.78     20736\n",
      "   macro avg       0.52      0.55      0.52     20736\n",
      "weighted avg       0.87      0.78      0.82     20736\n",
      "\n"
     ]
    }
   ],
   "source": [
    "from sklearn.metrics import classification_report\n",
    "# Shot Boundary Prediction Model evaluation\n",
    "\n",
    "criterion = torch.nn.CrossEntropyLoss(weight=torch.Tensor([0.5, 5]))\n",
    "model.eval()\n",
    "eval_dict = {'test': [], 'accuracy': [], 'preds': []}\n",
    "y_preds_list = []\n",
    "y_gt_list = []\n",
    "with torch.no_grad():\n",
    "    eval_total = 0\n",
    "    eval_correct = 0\n",
    "    for idx, x in enumerate(testloader):\n",
    "        x_in = x[:,:-1]\n",
    "        y_in = torch.Tensor(x[:,-1]).type(torch.LongTensor)\n",
    "        with torch.no_grad():\n",
    "            y_pred = model(x_in)\n",
    "            test_loss = criterion(y_pred, y_in)\n",
    "            total_loss = total_loss + test_loss.item()\n",
    "            # For binary classification\n",
    "            for y in range(len(y_pred)):\n",
    "                eval_total = eval_total + 1\n",
    "                y_out = torch.nn.functional.softmax(y_pred[y], dim=0)\n",
    "                if torch.argmax(y_out).item() == y_in[y].item():\n",
    "                    eval_correct = eval_correct + 1\n",
    "                    \n",
    "                y_preds_list.append(torch.argmax(y_out).item())\n",
    "                y_gt_list.append(y_in[y].item())\n",
    "\n",
    "            eval_dict['test'].append(total_loss)\n",
    "            eval_dict['accuracy'].append(eval_correct/eval_total)\n",
    "    print(\"Accuracy: {} TestLoss: {}.\".format(eval_correct/eval_total, total_loss))\n",
    "\n",
    "print(classification_report(y_gt_list, y_preds_list))"
   ]
  },
  {
   "cell_type": "code",
   "execution_count": 14,
   "metadata": {
    "scrolled": true
   },
   "outputs": [
    {
     "name": "stdout",
     "output_type": "stream",
     "text": [
      "Scores: {\n",
      "    \"AP\": 0.09636659370611425,\n",
      "    \"mAP\": 0.09636659370611425,\n",
      "    \"Miou\": 0.33720653028401065,\n",
      "    \"Precision\": 149.0,\n",
      "    \"Recall\": 241.0,\n",
      "    \"F1\": 184.14871794871794\n",
      "}\n"
     ]
    }
   ],
   "source": [
    "import json\n",
    "\n",
    "def get_argmax(row):\n",
    "    return np.argmax(row)\n",
    "\n",
    "def get_eval_loader(data):\n",
    "    eval_loader = torch.utils.data.DataLoader(data, batch_size=params['batch_size'], drop_last=True)\n",
    "    \n",
    "    return eval_loader\n",
    "    \n",
    "def tensor_from_loader(dataloader):\n",
    "    cat_data = torch.Tensor([])\n",
    "    for d in dataloader:\n",
    "        cat_data = torch.cat((cat_data, d), dim=0)\n",
    "        \n",
    "    return cat_data\n",
    "\n",
    "gt_dict = dict()\n",
    "pr_dict = dict()\n",
    "shot_to_end_frame_dict = dict()\n",
    "\n",
    "gt_dict_loader = get_eval_loader(loadDatasetsCol([data[-1]], \"scene_transition_boundary_ground_truth\", 'unsqueeze'))\n",
    "gt_dict['test'] = tensor_from_loader(gt_dict_loader)\n",
    "\n",
    "x_in_loader = get_eval_loader(loadDatasets([data[-1]], loadBoundPredDatasetA))\n",
    "x_in = tensor_from_loader(x_in_loader)\n",
    "with torch.no_grad():\n",
    "#     x_in = loadDatasetsCol([data[-1]], \"scene_transition_boundary_prediction\", 'unsqueeze')\n",
    "    x_in = x_in[:,:-1]\n",
    "    pr_dict['test'] = torch.nn.functional.softmax(model(x_in), dim=1)\n",
    "    pr_dict['test'] = np.array([np.argmax(p) for p in pr_dict['test'].numpy()])\n",
    "    \n",
    "shot_to_end_frame_dict['test'] = loadDatasetsCol([data[-1]], 'shot_end_frame', 'none').view(-1)\n",
    "\n",
    "scores = dict()\n",
    "scores[\"AP\"], scores[\"mAP\"], _ = calc_ap(gt_dict, pr_dict)\n",
    "scores[\"Miou\"], _ = calc_miou(gt_dict, pr_dict, shot_to_end_frame_dict)\n",
    "scores[\"Precision\"], scores[\"Recall\"], scores[\"F1\"], *_ = calc_precision_recall(gt_dict, pr_dict)\n",
    "\n",
    "print(\"Scores:\", json.dumps(scores, indent=4))"
   ]
  },
  {
   "cell_type": "code",
   "execution_count": null,
   "metadata": {},
   "outputs": [],
   "source": []
  }
 ],
 "metadata": {
  "kernelspec": {
   "display_name": "Python 3",
   "language": "python",
   "name": "python3"
  },
  "language_info": {
   "codemirror_mode": {
    "name": "ipython",
    "version": 3
   },
   "file_extension": ".py",
   "mimetype": "text/x-python",
   "name": "python",
   "nbconvert_exporter": "python",
   "pygments_lexer": "ipython3",
   "version": "3.6.8"
  }
 },
 "nbformat": 4,
 "nbformat_minor": 2
}
